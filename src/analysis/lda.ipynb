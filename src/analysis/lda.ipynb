{
 "cells": [
  {
   "cell_type": "code",
   "execution_count": 9,
   "metadata": {},
   "outputs": [],
   "source": [
    "from sklearn.feature_extraction.text import TfidfVectorizer, CountVectorizer\n",
    "from sklearn.feature_extraction import text\n",
    "from sklearn.decomposition import LatentDirichletAllocation as LDA\n",
    "import nltk\n",
    "from nltk.stem import SnowballStemmer, WordNetLemmatizer\n",
    "from nltk.tokenize import word_tokenize\n",
    "from time import time\n",
    "import csv\n",
    "import os\n",
    "import sys\n",
    "\n",
    "root = os.getcwd()\n",
    "sys.path.append(\"{root}/../..\".format(root=root))\n",
    "\n",
    "from utils.stopWords import stopWords"
   ]
  },
  {
   "cell_type": "code",
   "execution_count": 10,
   "metadata": {},
   "outputs": [],
   "source": [
    "# CONSTANTS\n",
    "datasetFilepath = \"../../data/data.csv\"\n",
    "countTopics = 5\n",
    "countTopWords = 10 # Only show the top 10 words in a topic\n",
    "countFeatures = 100\n",
    "ngramRange = (1, 1)\n",
    "tokenPattern= r'(?u)\\b[A-Za-z]+\\b' # Only include letters, remove any numerical characters\n",
    "maxReviewRating = 3 # Must be number between 1 and 5\n",
    "maxReviews = 10000\n",
    "customStopWords = text.ENGLISH_STOP_WORDS.union(stopWords)\n",
    "minDF = 2 # Shows up in at least 10 documents x\n",
    "maxDF = 0.95 # Occurs in less than 90% of the documents"
   ]
  },
  {
   "cell_type": "code",
   "execution_count": 3,
   "metadata": {},
   "outputs": [
    {
     "name": "stderr",
     "output_type": "stream",
     "text": [
      "[nltk_data] Downloading package wordnet to /Users/enaluz/nltk_data...\n",
      "[nltk_data]   Package wordnet is already up-to-date!\n"
     ]
    }
   ],
   "source": [
    "nltk.download('wordnet')\n",
    "lemmatizer = WordNetLemmatizer()\n",
    "tokenizer = lambda word: [lemmatizer.lemmatize(t) for t in word]"
   ]
  },
  {
   "cell_type": "code",
   "execution_count": 4,
   "metadata": {
    "tags": [
     "outputPrepend"
    ]
   },
   "outputs": [
    {
     "name": "stdout",
     "output_type": "stream",
     "text": [
      "Data extraction completed in 0.410339 seconds\n",
      "data length: 4982 \n",
      "\n"
     ]
    }
   ],
   "source": [
    "startTime = time()\n",
    "corpus = []\n",
    "with open(datasetFilepath, 'r') as file:\n",
    "    reader = csv.DictReader(file)\n",
    "    for index, row in enumerate(reader):\n",
    "        try:\n",
    "            if float(row[\"reviewRating\"]) <= maxReviewRating:\n",
    "                corpus.append(row[\"reviewContent\"])\n",
    "        except Exception as e:\n",
    "            print(\"Catching error: \", e)\n",
    "            pass\n",
    "\n",
    "print(\"Data extraction completed in %f seconds\" %\n",
    "      (time() - startTime))\n",
    "\n",
    "print(\"data length: %s \\n\" % len(corpus))\n",
    "\n",
    "countSamples = len(corpus)"
   ]
  },
  {
   "cell_type": "code",
   "execution_count": 5,
   "metadata": {
    "tags": [
     "outputPrepend"
    ]
   },
   "outputs": [
    {
     "name": "stderr",
     "output_type": "stream",
     "text": [
      "[nltk_data] Downloading package punkt to /Users/enaluz/nltk_data...\n",
      "[nltk_data]   Package punkt is already up-to-date!\n"
     ]
    },
    {
     "name": "stdout",
     "output_type": "stream",
     "text": [
      "Filtering stop words completed in 7.199851 seconds\n"
     ]
    }
   ],
   "source": [
    "startTime = time()\n",
    "\n",
    "nltk.download('punkt')\n",
    "\n",
    "# Create hashmap for slightly faster lookup\n",
    "customStopWordsHashmap = { k: True for k in customStopWords }\n",
    "\n",
    "validCorpus = []\n",
    "for review in corpus:\n",
    "    validWords = []\n",
    "    for word in word_tokenize(review):\n",
    "        if word not in customStopWordsHashmap:\n",
    "            validWords.append(word)\n",
    "    validReview = \" \".join(validWords)\n",
    "    validCorpus.append(validReview)\n",
    "\n",
    "corpus = validCorpus\n",
    "\n",
    "print(\"Filtering stop words completed in %f seconds\" % (time() - startTime))"
   ]
  },
  {
   "cell_type": "code",
   "execution_count": 6,
   "metadata": {},
   "outputs": [
    {
     "name": "stderr",
     "output_type": "stream",
     "text": [
      "/usr/local/lib/python3.7/site-packages/sklearn/feature_extraction/text.py:385: UserWarning: Your stop_words may be inconsistent with your preprocessing. Tokenizing the stop words generated tokens ['acorn', 'aight', 'ain', 'alaska', 'ale', 'alfalfa', 'almonds', 'amn', 'aren', 'baked', 'bamboo', 'bean', 'belgian', 'bell', 'black', 'blackeyed', 'blood', 'box', 'brown', 'brussels', 'cause', 'cayenne', 'chestnut', 'chick', 'chops', 'clock', 'collard', 'cone', 'cottage', 'couldn', 'course', 'daily', 'dandelion', 'danish', 'daren', 'daresn', 'dasn', 'day', 'didn', 'digestive', 'doesn', 'dog', 'don', 'edam', 'er', 'everybody', 'fava', 'fries', 'giv', 'gon', 'gouda', 'green', 'hadn', 'hasn', 'haven', 'iceberg', 'iced', 'isn', 'jordan', 'junk', 'kidney', 'let', 'lima', 'll', 'lunch', 'ma', 'main', 'mandarin', 'maple', 'mashed', 'mayn', 'mightn', 'mole', 'mustn', 'ne', 'needn', 'ol', 'oughtn', 'pattypan', 'peas', 'pin', 'pita', 'pod', 'prime', 'pyramid', 'rib', 'rolling', 'seed', 'sesame', 'shalln', 'shan', 'shish', 'shoots', 'shouldn', 'somebody', 'split', 'string', 'sub', 'submarine', 'summer', 'swiss', 'tis', 'twas', 'ugli', 've', 'wasn', 'weren', 'whipped', 'won', 'wouldn', 'ye'] not in stop_words.\n",
      "  'stop_words.' % sorted(inconsistent))\n"
     ]
    },
    {
     "name": "stdout",
     "output_type": "stream",
     "text": [
      "Vectorization completed in 0.438971 seconds\n"
     ]
    }
   ],
   "source": [
    "startTime = time()\n",
    "\n",
    "TFVectorizer = CountVectorizer(\n",
    "    max_df=maxDF,\n",
    "    min_df=minDF,\n",
    "    max_features=countFeatures,\n",
    "    ngram_range=ngramRange, \n",
    "    token_pattern=tokenPattern,\n",
    "    stop_words=customStopWords\n",
    ")\n",
    "\n",
    "TF = TFVectorizer.fit_transform(corpus)\n",
    "\n",
    "featureNames = TFVectorizer.get_feature_names()\n",
    "\n",
    "print(\"Vectorization completed in %f seconds\" % (time() - startTime))"
   ]
  },
  {
   "cell_type": "code",
   "execution_count": 7,
   "metadata": {},
   "outputs": [
    {
     "name": "stdout",
     "output_type": "stream",
     "text": [
      "Fitting the NMF model with countSamples=4982 and countFeatures=100 \n",
      "\n",
      "Completed model fitting in 25.422411 seconds\n"
     ]
    }
   ],
   "source": [
    "# Fit the model\n",
    "startTime = time()\n",
    "\n",
    "print(\"Fitting the NMF model with countSamples=%d and countFeatures=%d \\n\" % (countSamples, countFeatures))\n",
    "\n",
    "LDAModel = LDA(n_components=countTopics).fit(TF)\n",
    "\n",
    "print(\"Completed model fitting in %f seconds\" % (time() - startTime))"
   ]
  },
  {
   "cell_type": "code",
   "execution_count": 12,
   "metadata": {
    "scrolled": true,
    "tags": [
     "outputPrepend"
    ]
   },
   "outputs": [
    {
     "name": "stdout",
     "output_type": "stream",
     "text": [
      "Topic 1:\n",
      "flavor, taste, did, fries, ordered, meal, tasted, dishes, came, cold\n",
      "Topic 2:\n",
      "did, asked, said, came, waiter, told, table, ordered, time, wanted\n",
      "Topic 3:\n",
      "really, ordered, okay, place, did, lunch, special, got, came, try\n",
      "Topic 4:\n",
      "wait, table, minutes, time, waiting, hour, long, waited, service, seated\n",
      "Topic 5:\n",
      "great, service, friendly, staff, nice, went, place, ordered, little, dinner\n",
      "Topic 6:\n",
      "service, time, did, experience, location, server, bad, know, times, want\n",
      "Topic 7:\n",
      "pretty, ve, place, came, stars, time, quite, come, bit, think\n",
      "Topic 8:\n",
      "place, better, small, people, high, reviews, little, really, lot, price\n",
      "Topic 9:\n",
      "ok, did, better, cooked, best, service, think, maybe, taste, went\n",
      "Topic 10:\n",
      "got, bar, drinks, place, friend, nice, area, night, people, service\n"
     ]
    }
   ],
   "source": [
    "# Maps the indexes back to the featureName\n",
    "for index, topic in enumerate(LDAModel.components_):\n",
    "    print(\"Topic %d:\" % (index + 1))\n",
    "    print(\", \".join([featureNames[i] for i in topic.argsort()[:-countTopWords - 1:-1]]))"
   ]
  },
  {
   "cell_type": "code",
   "execution_count": null,
   "metadata": {},
   "outputs": [],
   "source": []
  }
 ],
 "metadata": {
  "file_extension": ".py",
  "kernelspec": {
   "display_name": "Python 3.7.6 64-bit",
   "language": "python",
   "name": "python37664bit4a11daee5a5d42719c7d4abd76c94139"
  },
  "language_info": {
   "codemirror_mode": {
    "name": "ipython",
    "version": 3
   },
   "file_extension": ".py",
   "mimetype": "text/x-python",
   "name": "python",
   "nbconvert_exporter": "python",
   "pygments_lexer": "ipython3",
   "version": "3.7.6"
  },
  "mimetype": "text/x-python",
  "name": "python",
  "npconvert_exporter": "python",
  "pygments_lexer": "ipython3",
  "version": 3
 },
 "nbformat": 4,
 "nbformat_minor": 2
}
